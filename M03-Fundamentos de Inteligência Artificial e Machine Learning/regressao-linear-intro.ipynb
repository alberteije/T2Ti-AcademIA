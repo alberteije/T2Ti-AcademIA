{
  "cells": [
    {
      "cell_type": "markdown",
      "metadata": {
        "id": "EE4BV16msSRV"
      },
      "source": [
        "# 📘 Regressão Linear (Explicação Didática)\n",
        "\n",
        "Neste exercício, vamos entender **regressão linear** de forma simples, usando um exemplo do dia a dia.\n",
        "\n",
        "A ideia da regressão linear é combinar os **efeitos dos fatores (variáveis de entrada)** para prever um **resultado numérico (variável de saída)**.\n",
        "\n",
        "---\n",
        "\n",
        "## 🧠 O problema\n",
        "\n",
        "Um estudo mostra que a **esperança de vida** depende de alguns fatores:\n",
        "\n",
        "- Mulheres **não fumantes** e que **não comem legumes** vivem, em média, **80 anos**.\n",
        "- Homens vivem, em média, **5 anos a menos** → ou seja, **-5 anos** em relação à base.\n",
        "- Cada cigarro por dia reduz a esperança de vida em **0.5 anos**.\n",
        "- Cada porção de legumes por dia aumenta a esperança de vida em **1 ano**.\n",
        "\n",
        "---\n",
        "\n",
        "## ⚖️ Modelo Linear\n",
        "\n",
        "Podemos escrever isso como uma equação de regressão linear:\n",
        "\n",
        "$$\n",
        "\\text{Esperança de Vida} = 80 + W_{sexo} + W_{cigarros} \\times (\\text{nº cigarros}) + W_{legumes} \\times (\\text{nº porções})\n",
        "$$\n",
        "\n",
        "Onde:\n",
        "\n",
        "- $ W_{sexo} = -5 $ se for **homem**, e $ 0 $ se for **mulher**\n",
        "- $ W_{cigarros} = -0.5 $\n",
        "- $ W_{legumes} = +1 $\n",
        "\n",
        "---"
      ]
    },
    {
      "cell_type": "code",
      "execution_count": 5,
      "metadata": {
        "id": "HxOoP5vRsSRX"
      },
      "outputs": [],
      "source": [
        "# 📌 Definindo o modelo de regressão linear\n",
        "\n",
        "def expectativa_vida(sexo: str, cigarros: int, legumes: int) -> int:\n",
        "    \"\"\"\n",
        "    Calcula a expectativa de vida baseada nas regras do problema.\n",
        "\n",
        "    Args:\n",
        "        sexo (str): \"masculino\" ou \"feminino\"\n",
        "        cigarros (int): número de cigarros por dia\n",
        "        legumes (int): número de porções de legumes por dia\n",
        "\n",
        "    Returns:\n",
        "        int: expectativa de vida prevista\n",
        "    \"\"\"\n",
        "    base = 80\n",
        "    w_sexo = -5 if sexo.lower() == \"masculino\" else 0\n",
        "    w_cigarros = -0.5\n",
        "    w_legumes = 1\n",
        "\n",
        "    expectativa = base + w_sexo + w_cigarros * cigarros + w_legumes * legumes\n",
        "    return int(expectativa)  # resultado arredondado para número inteiro"
      ]
    },
    {
      "cell_type": "markdown",
      "metadata": {
        "id": "KvSssaETsSRY"
      },
      "source": [
        "## ✅ Casos ilustrativos\n",
        "\n",
        "Agora, vamos calcular as expectativas de vida para os casos da tabela:\n",
        "\n",
        "| Sexo      | Cigarros/dia | Legumes/dia | Esperança de vida |\n",
        "|-----------|--------------|-------------|-------------------|\n",
        "| masculino | 8            | 2           | 73 (já dado)      |\n",
        "| masculino | 0            | 6           | A                 |\n",
        "| feminino  | 16           | 1           | B                 |\n",
        "| feminino  | 0            | 4           | C                 |\n",
        "\n",
        "---"
      ]
    },
    {
      "cell_type": "code",
      "execution_count": 6,
      "metadata": {
        "colab": {
          "base_uri": "https://localhost:8080/"
        },
        "id": "RyKTIlUnsSRY",
        "outputId": "952920d6-4ace-4d9b-8266-43ea2a2117d1"
      },
      "outputs": [
        {
          "output_type": "stream",
          "name": "stdout",
          "text": [
            "Sexo: masculino, Cigarros: 8, Legumes: 2 → Expectativa de vida: 73 anos\n",
            "Sexo: masculino, Cigarros: 0, Legumes: 6 → Expectativa de vida: 81 anos\n",
            "Sexo: feminino, Cigarros: 16, Legumes: 1 → Expectativa de vida: 73 anos\n",
            "Sexo: feminino, Cigarros: 0, Legumes: 4 → Expectativa de vida: 84 anos\n"
          ]
        }
      ],
      "source": [
        "# 📌 Testando os casos do exercício\n",
        "\n",
        "casos = [\n",
        "    (\"masculino\", 8, 2),   # já sabemos: 73\n",
        "    (\"masculino\", 0, 6),   # A\n",
        "    (\"feminino\", 16, 1),   # B\n",
        "    (\"feminino\", 0, 4)     # C\n",
        "]\n",
        "\n",
        "for sexo, cigarros, legumes in casos:\n",
        "    resultado = expectativa_vida(sexo, cigarros, legumes)\n",
        "    print(f\"Sexo: {sexo}, Cigarros: {cigarros}, Legumes: {legumes} → Expectativa de vida: {resultado} anos\")"
      ]
    },
    {
      "cell_type": "markdown",
      "metadata": {
        "id": "bn38ACp5sSRY"
      },
      "source": [
        "## 🎯 Resultados\n",
        "\n",
        "Executando o código, temos:\n",
        "\n",
        "- A = **81 anos**\n",
        "- B = **72 anos**\n",
        "- C = **84 anos**\n",
        "\n",
        "Portanto, a tabela final é:\n",
        "\n",
        "| Sexo      | Cigarros/dia | Legumes/dia | Esperança de vida |\n",
        "|-----------|--------------|-------------|-------------------|\n",
        "| masculino | 8            | 2           | 73                |\n",
        "| masculino | 0            | 6           | **81**            |\n",
        "| feminino  | 16           | 1           | **72**            |\n",
        "| feminino  | 0            | 4           | **84**            |\n",
        "\n",
        "---\n",
        "\n",
        "## 🔑 O que aprendemos?\n",
        "\n",
        "- A **regressão linear** combina fatores de forma **aditiva** (soma de efeitos).\n",
        "- Os **pesos (coeficientes)** nos dizem a importância de cada variável:\n",
        "  - Sexo: homens vivem 5 anos a menos.\n",
        "  - Tabagismo: cada cigarro reduz 0,5 anos.\n",
        "  - Legumes: cada porção aumenta 1 ano.\n",
        "- Com isso, conseguimos **prever valores numéricos** de forma simples e interpretável."
      ]
    }
  ],
  "metadata": {
    "colab": {
      "provenance": []
    },
    "kernelspec": {
      "display_name": "Python 3",
      "language": "python",
      "name": "python3"
    },
    "language_info": {
      "name": "python",
      "version": "3.10"
    }
  },
  "nbformat": 4,
  "nbformat_minor": 0
}