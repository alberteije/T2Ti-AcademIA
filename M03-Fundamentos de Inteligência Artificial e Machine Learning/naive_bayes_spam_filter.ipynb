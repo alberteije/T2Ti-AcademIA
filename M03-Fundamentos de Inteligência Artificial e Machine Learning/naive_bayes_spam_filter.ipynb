{
  "nbformat": 4,
  "nbformat_minor": 5,
  "metadata": {
    "kernelspec": {
      "display_name": "Python 3",
      "language": "python",
      "name": "python3"
    },
    "language_info": {
      "name": "python"
    }
  },
  "cells": [
    {
      "id": "4fb7f376",
      "cell_type": "markdown",
      "source": "# Classificador Naive Bayes com scikit-learn\nEste notebook demonstra como usar o classificador Naive Bayes para detectar spam com uma base de e-mails simples.",
      "metadata": {}
    },
    {
      "id": "6f823b12",
      "cell_type": "code",
      "metadata": {},
      "execution_count": null,
      "source": "# Importando bibliotecas necessárias\nfrom sklearn.feature_extraction.text import CountVectorizer\nfrom sklearn.naive_bayes import MultinomialNB\nfrom sklearn.pipeline import Pipeline",
      "outputs": []
    },
    {
      "id": "2fd92c6c",
      "cell_type": "code",
      "metadata": {},
      "execution_count": null,
      "source": "# Criando uma base de dados de e-mails com rótulos 'spam' e 'ham' (não-spam)\nemails = [\n    (\"Compre agora e ganhe desconto\", \"spam\"),\n    (\"Oferta exclusiva só hoje\", \"spam\"),\n    (\"Reunião marcada para amanhã\", \"ham\"),\n    (\"Seu relatório está pronto\", \"ham\"),\n]\n\n# Separando os textos (X) dos rótulos (y)\nX = [x[0] for x in emails]  # Lista com os textos\ny = [x[1] for x in emails]  # Lista com os rótulos",
      "outputs": []
    },
    {
      "id": "ae191a4c",
      "cell_type": "code",
      "metadata": {},
      "execution_count": null,
      "source": "# Criando um pipeline para transformar os textos e treinar o modelo\nmodelo = Pipeline([\n    (\"vetorizador\", CountVectorizer()),  # Transforma os textos em vetores numéricos\n    (\"classificador\", MultinomialNB())   # Aplica o classificador Naive Bayes\n])\n\n# Treinando o modelo\nmodelo.fit(X, y)",
      "outputs": []
    },
    {
      "id": "f5d8d4d0",
      "cell_type": "code",
      "metadata": {},
      "execution_count": null,
      "source": "# Testando o modelo com uma nova frase\nfrase_teste = \"falar sobre um desconto na reunião de amanhã, marquei um horário exclusivo\"\n\n# Fazendo a predição e mostrando as probabilidades\npredicao = modelo.predict([frase_teste])[0]\nprobs = modelo.predict_proba([frase_teste])[0]\n\n# Mostrando os resultados\nprint(f\"Frase: '{frase_teste}'\")\nprint(f\"Classificação prevista: {predicao}\")\nprint(f\"Probabilidades: spam = {probs[modelo.classes_.tolist().index('spam')]:.2f}, ham = {probs[modelo.classes_.tolist().index('ham')]:.2f}\")",
      "outputs": []
    },
    {
      "id": "48e2fbb9",
      "cell_type": "markdown",
      "source": "## 🧠 Conclusão\nO classificador Naive Bayes é um modelo probabilístico que usa a frequência das palavras nos exemplos de treinamento para prever se uma nova frase é spam ou não. Mesmo com palavras neutras como 'reunião', termos como 'desconto' e 'exclusivo' podem influenciar a classificação para spam, pois estavam associados a exemplos de spam no treinamento.",
      "metadata": {}
    }
  ]
}