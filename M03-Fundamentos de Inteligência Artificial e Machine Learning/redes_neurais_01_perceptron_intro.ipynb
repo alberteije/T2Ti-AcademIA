{
  "cells": [
    {
      "cell_type": "markdown",
      "metadata": {
        "id": "HQQUjcATMzqf"
      },
      "source": [
        "# Primeiro Neurônio Artificial (Perceptron)\n",
        "Neste notebook, vamos implementar nosso **primeiro neurônio artificial** e entender cada um dos seus componentes."
      ],
      "id": "HQQUjcATMzqf"
    },
    {
      "cell_type": "markdown",
      "metadata": {
        "id": "E_8Zd4MTMzqh"
      },
      "source": [
        "## 1. Entradas (Inputs)\n",
        "- Representam os **dados de entrada** que chegam ao neurônio.\n",
        "- Podem ser valores numéricos, como intensidade de pixels em uma imagem, ou valores binários, como 0 e 1 em operações lógicas.\n",
        "\n",
        "Exemplo: Para simular a lógica AND, temos duas entradas possíveis: `x1` e `x2`, que podem ser 0 ou 1."
      ],
      "id": "E_8Zd4MTMzqh"
    },
    {
      "cell_type": "markdown",
      "metadata": {
        "id": "ElJuzdFdMzqi"
      },
      "source": [
        "## 2. Pesos (Weights)\n",
        "- Cada entrada tem um **peso associado**.\n",
        "- Os pesos indicam a **importância** daquela entrada para o resultado final.\n",
        "- Se o peso for alto, aquela entrada influencia mais; se for baixo (ou negativo), influencia menos ou de forma oposta."
      ],
      "id": "ElJuzdFdMzqi"
    },
    {
      "cell_type": "markdown",
      "metadata": {
        "id": "0c5HzkWeMzqj"
      },
      "source": [
        "## 3. Bias (ou Intercepto)\n",
        "- O **bias** é um valor extra adicionado à soma das entradas ponderadas.\n",
        "- Ele funciona como um **ajuste fino** para deslocar o ponto de decisão.\n",
        "- Sem o bias, o neurônio sempre passaria pela origem (0,0). Com o bias, ele pode se adaptar melhor.\n",
        "\n",
        "👉 Em estatística, isso é equivalente ao **intercepto** em uma reta: `y = w*x + b`."
      ],
      "id": "0c5HzkWeMzqj"
    },
    {
      "cell_type": "markdown",
      "metadata": {
        "id": "Iii2VmtlMzqj"
      },
      "source": [
        "## 4. Fórmula do Neurônio Artificial\n",
        "O funcionamento básico do perceptron pode ser descrito assim:\n",
        "\n",
        "\\[ z = w_1 * x_1 + w_2 * x_2 + ... + w_n * x_n + bias \\]\n",
        "\n",
        "onde:\n",
        "- `x` são as entradas\n",
        "- `w` são os pesos\n",
        "- `bias` é o intercepto\n",
        "- `z` é a soma ponderada das entradas\n",
        "\n",
        "Em seguida aplicamos uma **função de ativação** a `z` para gerar a saída final."
      ],
      "id": "Iii2VmtlMzqj"
    },
    {
      "cell_type": "markdown",
      "metadata": {
        "id": "-DNsd70_Mzqk"
      },
      "source": [
        "## 5. Função de Ativação\n",
        "- Define **quando o neurônio é ativado**.\n",
        "- Sem ela, a saída seria apenas um número real.\n",
        "- Com ela, conseguimos tomar decisões (ex: ligar/desligar, 0/1).\n",
        "\n",
        "### Função Degrau (Step Function)\n",
        "- Retorna 1 se `z >= 0`\n",
        "- Retorna 0 se `z < 0`\n",
        "\n",
        "👉 É a função mais simples, usada para tarefas lógicas (AND, OR, NAND, etc.)."
      ],
      "id": "-DNsd70_Mzqk"
    },
    {
      "cell_type": "code",
      "metadata": {
        "colab": {
          "base_uri": "https://localhost:8080/"
        },
        "id": "uF5eql1LMzqk",
        "outputId": "088a8026-7a78-4756-b8bf-852b91842750"
      },
      "source": [
        "# Função de ativação step\n",
        "def step_function(x):\n",
        "    return 1 if x >= 0 else 0\n",
        "\n",
        "print(step_function(-2))  # Deve dar 0\n",
        "print(step_function(3))   # Deve dar 1"
      ],
      "execution_count": 1,
      "outputs": [
        {
          "output_type": "stream",
          "name": "stdout",
          "text": [
            "0\n",
            "1\n"
          ]
        }
      ],
      "id": "uF5eql1LMzqk"
    },
    {
      "cell_type": "markdown",
      "metadata": {
        "id": "-rwsY_pnMzql"
      },
      "source": [
        "## 6. Implementando o Perceptron para AND\n",
        "Agora vamos juntar tudo:\n",
        "- Entradas: `x1` e `x2`\n",
        "- Pesos: `w1`, `w2`\n",
        "- Bias: ajustado para dar o comportamento correto\n",
        "- Função de ativação: degrau"
      ],
      "id": "-rwsY_pnMzql"
    },
    {
      "cell_type": "code",
      "metadata": {
        "colab": {
          "base_uri": "https://localhost:8080/"
        },
        "id": "USGvgPOGMzql",
        "outputId": "d3233cbb-e9ac-4bc1-b4fa-116cb8bff9ed"
      },
      "source": [
        "# Pesos e bias para operação AND\n",
        "w1 = 1\n",
        "w2 = 1\n",
        "bias = -1.5\n",
        "\n",
        "def perceptron(x1, x2):\n",
        "    z = w1*x1 + w2*x2 + bias\n",
        "    return step_function(z)\n",
        "\n",
        "# Testando\n",
        "inputs = [(0,0), (0,1), (1,0), (1,1)]\n",
        "print(\"AND Logic Perceptron\")\n",
        "for x1, x2 in inputs:\n",
        "    print(f\"Input: ({x1},{x2}) -> Output: {perceptron(x1,x2)}\")"
      ],
      "execution_count": 2,
      "outputs": [
        {
          "output_type": "stream",
          "name": "stdout",
          "text": [
            "AND Logic Perceptron\n",
            "Input: (0,0) -> Output: 0\n",
            "Input: (0,1) -> Output: 0\n",
            "Input: (1,0) -> Output: 0\n",
            "Input: (1,1) -> Output: 1\n"
          ]
        }
      ],
      "id": "USGvgPOGMzql"
    },
    {
      "cell_type": "markdown",
      "source": [
        "**Explicação do Perceptron AND** (com `bias = -1.5`)\n",
        "\n",
        "A equação do seu neurônio é: `z = (1)*x1 + (1)*x2 + (-1.5)`\n",
        "\n",
        "O neurônio ativa (retorna 1) apenas se `z >= 0`, ou seja:\n",
        "\n",
        "`x1 + x2 - 1.5 >= 0 => x1 + x2 >= 1.5`\n",
        "\n",
        "Agora vamos testar as entradas contra essa regra `x1 + x2 >= 1.5`:\n",
        "\n",
        "- `(0, 0)`: 0 + 0 = 0. 0 >= 1.5? Falso. -> Saída `0`\n",
        "\n",
        "- `(0, 1)`: 0 + 1 = 1. 1 >= 1.5? Falso. -> Saída `0`\n",
        "\n",
        "- `(1, 0)`: 1 + 0 = 1. 1 >= 1.5? Falso. -> Saída `0`\n",
        "\n",
        "- `(1, 1)`: 1 + 1 = 2. 2 >= 1.5? Verdadeiro. -> Saída `1`\n",
        "\n",
        "**Perfeito! Isso é exatamente a tabela AND.** O bias `-1.5` criou um \"limiar\" alto: só passamos se a soma das entradas for pelo menos `1.5`, o que só acontece quando ambas as entradas são 1."
      ],
      "metadata": {
        "id": "sQEfOXJtUPFs"
      },
      "id": "sQEfOXJtUPFs"
    },
    {
      "cell_type": "markdown",
      "metadata": {
        "id": "VtmFSHngMzqm"
      },
      "source": [
        "## 7. Exercício: Perceptron OR\n",
        "Modifique os pesos e o bias para implementar a lógica **OR**:\n",
        "- Saída = 1 se pelo menos uma entrada for 1\n",
        "- Saída = 0 apenas quando ambas são 0"
      ],
      "id": "VtmFSHngMzqm"
    },
    {
      "cell_type": "code",
      "metadata": {
        "colab": {
          "base_uri": "https://localhost:8080/"
        },
        "id": "jc8oFE4PMzqm",
        "outputId": "515c3ce4-7046-4edc-9381-de32f40878de"
      },
      "source": [
        "# Pesos e bias para OR\n",
        "w1 = 1\n",
        "w2 = 1\n",
        "bias = -0.5\n",
        "\n",
        "def perceptron_or(x1, x2):\n",
        "    z = w1*x1 + w2*x2 + bias\n",
        "    return step_function(z)\n",
        "\n",
        "print(\"OR Logic Perceptron\")\n",
        "for x1, x2 in inputs:\n",
        "    print(f\"Input: ({x1},{x2}) -> Output: {perceptron_or(x1,x2)}\")"
      ],
      "execution_count": 8,
      "outputs": [
        {
          "output_type": "stream",
          "name": "stdout",
          "text": [
            "OR Logic Perceptron\n",
            "Input: (0,0) -> Output: 0\n",
            "Input: (0,1) -> Output: 0\n",
            "Input: (1,0) -> Output: 0\n",
            "Input: (1,1) -> Output: 0\n"
          ]
        }
      ],
      "id": "jc8oFE4PMzqm"
    },
    {
      "cell_type": "markdown",
      "source": [
        "**Explicação do Perceptron OR (com `bias = -0.5`)**\n",
        "\n",
        "Agora a equação muda para: `z = (1)*x1 + (1)*x2 + (-0.5)`\n",
        "\n",
        "O neurônio ativa se:\n",
        "\n",
        "`x1 + x2 - 0.5 >= 0 => x1 + x2 >= 0.5`\n",
        "\n",
        "Testando as entradas contra a nova regra `x1 + x2 >= 0.5`:\n",
        "\n",
        "- `(0, 0)`: 0 + 0 = 0. 0 >= 0.5? Falso. -> Saída `0`\n",
        "\n",
        "- `(0, 1)`: 0 + 1 = 1. 1 >= 0.5? Verdadeiro. -> Saída `1`\n",
        "\n",
        "- `(1, 0)`: 1 + 0 = 1. 1 >= 0.5? Verdadeiro. -> Saída `1`\n",
        "\n",
        "- `(1, 1)`: 1 + 1 = 2. 2 >= 0.5? Verdadeiro. -> Saída `1`\n",
        "\n",
        "**Perfeito de novo! Isso é exatamente a tabela OR.** O bias `-0.5` criou um limiar baixo: passamos se pelo menos uma das entradas for 1 (já que 1 >= 0.5)."
      ],
      "metadata": {
        "id": "m3UPySZ4TJhf"
      },
      "id": "m3UPySZ4TJhf"
    }
  ],
  "metadata": {
    "kernelspec": {
      "display_name": "Python 3",
      "language": "python",
      "name": "python3"
    },
    "language_info": {
      "name": "python",
      "version": "3.10"
    },
    "colab": {
      "provenance": []
    }
  },
  "nbformat": 4,
  "nbformat_minor": 5
}