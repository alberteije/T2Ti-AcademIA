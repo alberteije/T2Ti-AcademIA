{
 "cells": [
  {
   "cell_type": "markdown",
   "id": "28b2f963",
   "metadata": {},
   "source": [
    "# Probabilidade e Incerteza em IA"
   ]
  },
  {
   "cell_type": "markdown",
   "id": "97bad58b",
   "metadata": {},
   "source": [
    "\n",
    "## Incerteza no mundo real\n",
    "\n",
    "Ao contrário de jogos como xadrez, onde todas as informações são conhecidas, problemas do mundo real envolvem incertezas. Por exemplo, um carro autônomo pode encontrar situações imprevistas, como:\n",
    "\n",
    "- Um acidente inesperado na via;\n",
    "- Uma bola cruzando a rua;\n",
    "- Uma câmera sendo obstruída por sujeira ou reflexo.\n",
    "\n",
    "Esses eventos envolvem incerteza e exigem tomada de decisão mesmo sem informações perfeitas.\n"
   ]
  },
  {
   "cell_type": "markdown",
   "id": "9801791f",
   "metadata": {},
   "source": [
    "\n",
    "## Sensores e Ruído\n",
    "\n",
    "Sensores de um carro autônomo, como câmeras e radares, são suscetíveis a **ruído** — variações indesejadas que dificultam a interpretação precisa do ambiente.\n",
    "\n",
    "Um sensor pode indicar que a estrada segue à esquerda, enquanto outro aponta para a direita. Sistemas inteligentes precisam lidar com esse tipo de ambiguidade sem paralisar o veículo.\n"
   ]
  },
  {
   "cell_type": "markdown",
   "id": "6e115874",
   "metadata": {},
   "source": [
    "\n",
    "## Por que a probabilidade é essencial\n",
    "\n",
    "A probabilidade permite que sistemas lidem com incerteza de forma sistemática. Ao quantificar o quão provável é um evento, podemos:\n",
    "\n",
    "- Comparar riscos (ex: colidir ou não ao ultrapassar);\n",
    "- Fazer diagnósticos médicos (ex: chance de uma doença dado um sintoma);\n",
    "- Detectar fraudes ou spam com base em padrões de ocorrência.\n",
    "\n",
    "> **Nota:** Fuzzy logic também foi considerada para lidar com incerteza, mas a abordagem probabilística se mostrou mais flexível e dominante em aplicações modernas.\n"
   ]
  },
  {
   "cell_type": "markdown",
   "id": "1da1613c",
   "metadata": {},
   "source": [
    "\n",
    "## Odds e Probabilidades\n",
    "\n",
    "- **Probabilidade**: Valor entre 0 e 1 que representa a chance de um evento ocorrer.\n",
    "- **Odds** (razões): Expressam quantas vezes um evento ocorre em relação às vezes que ele **não** ocorre.\n",
    "\n",
    "Por exemplo, odds de 3:1 significam 3 chances de sucesso para cada 1 de falha, o que equivale a uma probabilidade de:\n",
    "\n",
    "\\[\n",
    "P = \\frac{3}{3 + 1} = 0.75\n",
    "\\]\n",
    "\n",
    "> Cuidado: odds de 1:5 não significam 20% de chance — na verdade, representam 1 sucesso para cada 5 fracassos, ou 1 a cada 6 no total.\n"
   ]
  },
  {
   "cell_type": "code",
   "execution_count": null,
   "id": "abd9563e",
   "metadata": {},
   "outputs": [],
   "source": [
    "\n",
    "def odds_to_probability(success: int, failure: int) -> float:\n",
    "    \"\"\"Converte odds (sucesso:fracasso) em probabilidade.\"\"\"\n",
    "    total = success + failure\n",
    "    return success / total\n",
    "\n",
    "# Exemplo:\n",
    "print(\"Odds 3:1 =\", odds_to_probability(3, 1))  # Esperado: 0.75\n",
    "print(\"Odds 1:5 =\", odds_to_probability(1, 5))  # Esperado: 0.1666...\n"
   ]
  },
  {
   "cell_type": "code",
   "execution_count": null,
   "id": "e65533e4",
   "metadata": {},
   "outputs": [],
   "source": [
    "\n",
    "def probability_to_odds(prob: float) -> tuple[int, int]:\n",
    "    \"\"\"Converte uma probabilidade (0 < p < 1) para odds aproximados inteiros.\"\"\"\n",
    "    if prob <= 0 or prob >= 1:\n",
    "        raise ValueError(\"A probabilidade deve estar entre 0 e 1 (exclusivo).\")\n",
    "    from math import gcd\n",
    "    numer = int(prob * 1000)\n",
    "    denom = int((1 - prob) * 1000)\n",
    "    divisor = gcd(numer, denom)\n",
    "    return numer // divisor, denom // divisor\n",
    "\n",
    "# Exemplo:\n",
    "print(\"Probabilidade 0.75 -> odds:\", probability_to_odds(0.75))  # Esperado: (3,1)\n",
    "print(\"Probabilidade 0.2 -> odds:\", probability_to_odds(0.2))    # Esperado: (1,4)\n"
   ]
  },
  {
   "cell_type": "markdown",
   "id": "0bc8069f",
   "metadata": {},
   "source": [
    "\n",
    "## Prática: Relacionando Probabilidades e Odds\n",
    "\n",
    "Tente relacionar as seguintes odds com as probabilidades correspondentes:\n",
    "\n",
    "- 5:1 → \\( P = \\frac{5}{5+1} = 0.83 \\)\n",
    "- 1:3 → \\( P = \\frac{1}{1+3} = 0.25 \\)\n",
    "- 2:2 → \\( P = \\frac{2}{4} = 0.5 \\)\n",
    "\n",
    "Use os exemplos acima para fortalecer a intuição entre os dois conceitos.\n"
   ]
  },
  {
   "cell_type": "markdown",
   "id": "4c20595f",
   "metadata": {},
   "source": [
    "\n",
    "## Conclusão\n",
    "\n",
    "Entender como representar e manipular incerteza é um dos pilares fundamentais da inteligência artificial moderna. Odds e probabilidades nos ajudam a formalizar esse raciocínio e permitem a construção de agentes que tomam decisões razoáveis mesmo em contextos imperfeitos.\n",
    "\n",
    "Nos próximos módulos, exploraremos como esses conceitos são usados em algoritmos reais de IA, como inferência bayesiana e redes probabilísticas.\n"
   ]
  }
 ],
 "metadata": {},
 "nbformat": 4,
 "nbformat_minor": 5
}