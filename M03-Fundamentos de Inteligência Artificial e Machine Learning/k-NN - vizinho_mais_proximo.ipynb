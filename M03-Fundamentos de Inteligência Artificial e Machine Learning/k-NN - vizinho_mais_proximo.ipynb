{
 "cells": [
  {
   "cell_type": "markdown",
   "id": "03c05c15",
   "metadata": {},
   "source": [
    "\n",
    "# Classificador do Vizinho Mais Próximo (k-NN)\n",
    "\n",
    "O classificador do vizinho mais próximo é um dos métodos mais simples de classificação. A ideia é muito intuitiva: dado um item novo, comparamos suas características com os itens conhecidos (dados de treino) e escolhemos aquele que é mais parecido. O novo item herda a classe (ou valor) do vizinho mais próximo.\n",
    "\n",
    "## Como medir \"proximidade\"?\n",
    "Para medir quão próximos dois itens estão, utilizamos uma métrica de distância. Uma das mais conhecidas é a **distância Euclidiana**, que calcula a raiz quadrada da soma das diferenças ao quadrado entre dois pontos em um espaço n-dimensional.\n",
    "\n",
    "No entanto, para dados categóricos (como listas de produtos comprados), podemos usar uma métrica mais simples: **número de itens em comum**.\n",
    "\n",
    "## Aplicação prática\n",
    "Vamos aplicar o k-NN para prever qual produto um cliente provavelmente comprará em seguida, com base em usuários semelhantes e seus históricos de compra.\n"
   ]
  },
  {
   "cell_type": "code",
   "execution_count": null,
   "id": "11adf77e",
   "metadata": {},
   "outputs": [],
   "source": [
    "\n",
    "# Dicionário com os dados dos usuários\n",
    "usuarios = {\n",
    "    'Carlos': ['luvas de boxe', 'Dom Casmurro (livro)', 'fones de ouvido', 'óculos escuros', 'café em grão'],\n",
    "    'Ana': ['camiseta', 'café em grão', 'máquina de café', 'café em grão', 'café em grão'],\n",
    "    'Bruna': ['óculos escuros', 'tênis', 'camiseta', 'tênis', 'meias de lã'],\n",
    "    'Diego': ['2001: Uma Odisseia no Espaço (dvd)', 'fones de ouvido', 'camiseta', 'luvas de boxe', 'chinelos'],\n",
    "    'Fernanda': ['camiseta', 'chinelos', 'óculos escuros', 'Dom Casmurro (livro)', 'protetor solar'],\n",
    "    'Eduardo': ['Dom Casmurro (livro)', 'café em grão', '2001: Uma Odisseia no Espaço (dvd)', 'fones de ouvido', 'café em grão'],\n",
    "}\n",
    "\n",
    "joao_historico = ['chá verde', 'camiseta', 'óculos escuros', 'chinelos']\n"
   ]
  },
  {
   "cell_type": "code",
   "execution_count": null,
   "id": "d325cd78",
   "metadata": {},
   "outputs": [],
   "source": [
    "\n",
    "# Função para calcular similaridade entre João e outro usuário\n",
    "def calcular_similaridade(historico1, historico2):\n",
    "    return len(set(historico1) & set(historico2))\n",
    "\n",
    "# Dicionário para armazenar as similaridades\n",
    "similaridades = {}\n",
    "\n",
    "# Comparando João com cada usuário\n",
    "for usuario, compras in usuarios.items():\n",
    "    historico_treino = compras[:-1]  # ignorar a última compra (usada como rótulo)\n",
    "    similaridade = calcular_similaridade(joao_historico, historico_treino)\n",
    "    similaridades[usuario] = similaridade\n",
    "\n",
    "# Exibir similaridades\n",
    "similaridades\n"
   ]
  },
  {
   "cell_type": "code",
   "execution_count": null,
   "id": "cc3b9d80",
   "metadata": {},
   "outputs": [],
   "source": [
    "\n",
    "# Encontrar o usuário mais semelhante\n",
    "vizinho_mais_proximo = max(similaridades, key=similaridades.get)\n",
    "print(f'Usuário mais semelhante ao João: {vizinho_mais_proximo}')\n"
   ]
  },
  {
   "cell_type": "code",
   "execution_count": null,
   "id": "a1afba4d",
   "metadata": {},
   "outputs": [],
   "source": [
    "\n",
    "# Prever próxima compra com base no vizinho mais próximo\n",
    "previsao = usuarios[vizinho_mais_proximo][-1]\n",
    "print(f'Previsão de próxima compra para João: {previsao}')\n"
   ]
  },
  {
   "cell_type": "markdown",
   "id": "28315d9f",
   "metadata": {},
   "source": [
    "\n",
    "## Conclusão\n",
    "\n",
    "Com base no histórico de compras, o usuário mais parecido com **João** foi o usuário identificado como o mais semelhante na análise anterior.\n",
    "Portanto, prevemos que a próxima compra de João será o mesmo item da última compra feita por esse usuário.\n",
    "\n",
    "### Observações:\n",
    "- Esse método simples pode ser bastante útil em sistemas de recomendação.\n",
    "- Com mais dados, poderíamos usar variações como k-vizinhos (k-NN), onde usamos os k usuários mais próximos em vez de apenas 1.\n",
    "- A definição de \"distância\" ou \"semelhança\" pode variar conforme o contexto (texto, imagem, número, etc).\n"
   ]
  }
 ],
 "metadata": {},
 "nbformat": 4,
 "nbformat_minor": 5
}
