{
  "cells": [
    {
      "cell_type": "markdown",
      "metadata": {
        "id": "Ce3IoEel_trn"
      },
      "source": [
        "# A Regra de Bayes - Passo a Passo\n",
        "Vamos entender a Regra de Bayes com exemplos práticos e explicações detalhadas. Esse é um dos conceitos mais poderosos e simples da estatística, utilizado em diversas áreas como medicina, direito, ciência e inteligência artificial."
      ]
    },
    {
      "cell_type": "markdown",
      "metadata": {
        "id": "NzrlnFH7_trp"
      },
      "source": [
        "## Conceitos principais\n",
        "**- Chance anterior:** é o que sabemos antes de uma nova evidência.\n",
        "\n",
        "**- Chance posterior:** é o que sabemos depois de considerar uma nova evidência.\n",
        "\n",
        "**- Verossimilhança (likelihood):** é a chance de observar uma evidência em cada cenário possível.\n",
        "\n",
        "**- Razão de verossimilhança (likelihood ratio):** compara as chances da evidência ocorrer em diferentes cenários.\n",
        "\n",
        "**- Regra de Bayes:** posterior odds = prior odds × likelihood ratio"
      ]
    },
    {
      "cell_type": "markdown",
      "metadata": {
        "id": "ZIB_3nd5_trp"
      },
      "source": [
        "## 🌧️ Exemplo 1: Vai chover hoje?\n",
        "Imagine que estamos na **Irlanda**. Em média, chove em 206 dias do ano e não chove em 159 dias.\n",
        "Com isso, podemos calcular as **chances anteriores** de chover: ou seja, a chance relativa entre dias de chuva e dias secos."
      ]
    },
    {
      "cell_type": "code",
      "execution_count": null,
      "metadata": {
        "colab": {
          "base_uri": "https://localhost:8080/"
        },
        "id": "g9pHUvcm_trq",
        "outputId": "4eca868c-ce68-43d9-c55c-f261f4c7f518"
      },
      "outputs": [
        {
          "output_type": "stream",
          "name": "stdout",
          "text": [
            "Odds antes de ver o tempo (prior odds): 1.30\n",
            "Significa que, para cada 1 dia sem chuva, há 1.30 dias com chuva.\n",
            "Ou seja, é mais provável chover do que não chover, mas não muito mais.\n",
            "👉 Convertendo para probabilidade: 56.44% de chance de chover.\n"
          ]
        }
      ],
      "source": [
        "dias_chuva = 206\n",
        "dias_secos = 159\n",
        "prior_odds = dias_chuva / dias_secos\n",
        "print(f\"Odds antes de ver o tempo (prior odds): {prior_odds:.2f}\")\n",
        "print(f\"Significa que, para cada 1 dia sem chuva, há {prior_odds:.2f} dias com chuva.\")\n",
        "print(\"Ou seja, é mais provável chover do que não chover, mas não muito mais.\")\n",
        "prob = prior_odds / (1 + prior_odds)\n",
        "print(f\"👉 Convertendo para probabilidade: {prob:.2%} de chance de chover.\")"
      ]
    },
    {
      "cell_type": "markdown",
      "metadata": {
        "id": "4Ydgzl26_trr"
      },
      "source": [
        "Agora imagine que você olha pela janela e vê o céu nublado.\n",
        "A pergunta agora é: **dado que o céu está nublado, qual a chance de chover?**\n",
        "Para isso, usamos a **verossimilhança**, ou seja, quão provável é observar nuvens em cada situação:\n",
        "- Em **dias de chuva**, 9 em cada 10 dias são nublados.\n",
        "- Em **dias sem chuva**, apenas 1 em cada 10 dias é nublado."
      ]
    },
    {
      "cell_type": "code",
      "execution_count": null,
      "metadata": {
        "colab": {
          "base_uri": "https://localhost:8080/"
        },
        "id": "VglH25fj_trr",
        "outputId": "ea7a73b7-ce89-4d5a-826e-1d2610bf693b"
      },
      "outputs": [
        {
          "output_type": "stream",
          "name": "stdout",
          "text": [
            "Razão de verossimilhança: 9.00\n",
            "Isso significa que ver nuvens é 9 vezes mais provável em dias de chuva do que em dias secos.\n"
          ]
        }
      ],
      "source": [
        "prob_nuvens_com_chuva = 9/10\n",
        "prob_nuvens_sem_chuva = 1/10\n",
        "likelihood_ratio = prob_nuvens_com_chuva / prob_nuvens_sem_chuva\n",
        "print(f\"Razão de verossimilhança: {likelihood_ratio:.2f}\")\n",
        "print(\"Isso significa que ver nuvens é 9 vezes mais provável em dias de chuva do que em dias secos.\")"
      ]
    },
    {
      "cell_type": "code",
      "execution_count": null,
      "metadata": {
        "colab": {
          "base_uri": "https://localhost:8080/"
        },
        "id": "52ouypHF_trr",
        "outputId": "e750e266-af51-4b00-f85b-3aebd3dcde48"
      },
      "outputs": [
        {
          "output_type": "stream",
          "name": "stdout",
          "text": [
            "Odds após ver nuvens: 11.66\n",
            "👉 Convertendo para probabilidade: 92.10% de chance de chover após ver nuvens.\n"
          ]
        }
      ],
      "source": [
        "posterior_odds = prior_odds * likelihood_ratio\n",
        "posterior_prob = posterior_odds / (1 + posterior_odds)\n",
        "print(f\"Odds após ver nuvens: {posterior_odds:.2f}\")\n",
        "print(f\"👉 Convertendo para probabilidade: {posterior_prob:.2%} de chance de chover após ver nuvens.\")"
      ]
    },
    {
      "cell_type": "markdown",
      "metadata": {
        "id": "lzhCZaof_trr"
      },
      "source": [
        "## 🩺 Exemplo 2: Exame de câncer de mama\n",
        "- 5% das mulheres têm câncer (base rate).\n",
        "- Se tem câncer, o teste dá positivo em 80% dos casos (sensibilidade).\n",
        "- Se **não** tem câncer, o teste dá falso positivo em 10% dos casos (1 - especificidade)."
      ]
    },
    {
      "cell_type": "code",
      "execution_count": null,
      "metadata": {
        "colab": {
          "base_uri": "https://localhost:8080/"
        },
        "id": "Y6ZPgLHd_trr",
        "outputId": "490ec855-6f29-456d-d6b5-a951588def8c"
      },
      "outputs": [
        {
          "output_type": "stream",
          "name": "stdout",
          "text": [
            "Probabilidade real de ter câncer dado teste positivo: 29.63%\n"
          ]
        }
      ],
      "source": [
        "prob_cancer = 0.05\n",
        "prob_sem_cancer = 0.95\n",
        "prob_positivo_dado_cancer = 0.80\n",
        "prob_positivo_dado_sem_cancer = 0.10\n",
        "prior_odds = prob_cancer / prob_sem_cancer\n",
        "likelihood_ratio = prob_positivo_dado_cancer / prob_positivo_dado_sem_cancer\n",
        "posterior_odds = prior_odds * likelihood_ratio\n",
        "posterior_prob = posterior_odds / (1 + posterior_odds)\n",
        "print(f\"Probabilidade real de ter câncer dado teste positivo: {posterior_prob:.2%}\")"
      ]
    },
    {
      "cell_type": "markdown",
      "metadata": {
        "id": "PMxt6CcK_trs"
      },
      "source": [
        "## ⚠️ Conclusão: Cuidado com a intuição\n",
        "Apesar do teste parecer confiável, a chance de realmente estar com câncer **não** é 80%.\n",
        "Isso acontece por causa da **falácia da taxa-base** – ignorar a frequência do evento na população.\n",
        "A Regra de Bayes nos ajuda a tomar decisões melhores quando lidamos com incertezas e evidências conflitantes."
      ]
    }
  ],
  "metadata": {
    "colab": {
      "provenance": []
    },
    "kernelspec": {
      "display_name": "Python 3",
      "language": "python",
      "name": "python3"
    },
    "language_info": {
      "name": "python"
    }
  },
  "nbformat": 4,
  "nbformat_minor": 0
}