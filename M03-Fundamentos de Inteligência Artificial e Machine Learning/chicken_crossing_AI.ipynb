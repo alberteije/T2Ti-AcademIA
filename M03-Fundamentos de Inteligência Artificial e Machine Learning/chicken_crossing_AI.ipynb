{
 "cells": [
  {
   "cell_type": "markdown",
   "id": "be28f714",
   "metadata": {},
   "source": [
    "\n",
    "# Problema do Rio: Travessia com IA\n",
    "\n",
    "Este notebook demonstra, de forma prática e explicativa, como resolver o clássico problema da travessia do rio com um robô, uma galinha, uma raposa e um saco de ração.  \n",
    "A solução é baseada em conceitos de **espaço de estados**, **transições** e **busca de caminho** — fundamentos importantes para **IA em ambientes estáticos**.\n",
    "\n",
    "---\n"
   ]
  },
  {
   "cell_type": "markdown",
   "id": "bd9d56c1",
   "metadata": {},
   "source": [
    "\n",
    "## 1. Definindo os Estados\n",
    "\n",
    "Cada entidade pode estar de um lado do rio: **N** (Near) ou **F** (Far).  \n",
    "Os elementos são: **Robô, Raposa, Galinha, Ração**.  \n",
    "Exemplo de estado: `NNNF` → Robô, Raposa e Galinha estão do lado Near, e a Ração no lado Far.\n",
    "\n",
    "Alguns estados não são permitidos, pois a raposa comeria a galinha ou a galinha comeria a ração sem o robô presente.\n",
    "\n",
    "Vamos definir os estados válidos e criar representações úteis para o algoritmo.\n"
   ]
  },
  {
   "cell_type": "code",
   "execution_count": null,
   "id": "f776c3d2",
   "metadata": {},
   "outputs": [],
   "source": [
    "\n",
    "from itertools import product\n",
    "\n",
    "# Gerar todos os estados possíveis (N/F para 4 itens)\n",
    "all_states = [''.join(s) for s in product('NF', repeat=4)]\n",
    "\n",
    "def is_valid(state):\n",
    "    robot, fox, chicken, feed = state\n",
    "    # Se robô está longe e galinha com raposa → problema\n",
    "    if robot != chicken and fox == chicken:\n",
    "        return False\n",
    "    # Se robô está longe e galinha com ração → problema\n",
    "    if robot != chicken and chicken == feed:\n",
    "        return False\n",
    "    return True\n",
    "\n",
    "valid_states = [s for s in all_states if is_valid(s)]\n",
    "valid_states\n"
   ]
  },
  {
   "cell_type": "markdown",
   "id": "12f992d9",
   "metadata": {},
   "source": [
    "\n",
    "## 2. Definindo as Transições\n",
    "\n",
    "O robô pode atravessar sozinho ou levar **um** item (Raposa, Galinha ou Ração).  \n",
    "Vamos definir uma função para identificar quais transições são válidas entre estados.\n"
   ]
  },
  {
   "cell_type": "code",
   "execution_count": null,
   "id": "354685e3",
   "metadata": {},
   "outputs": [],
   "source": [
    "\n",
    "from collections import defaultdict\n",
    "\n",
    "def get_possible_transitions(state):\n",
    "    transitions = []\n",
    "    side = state[0]  # Lado do robô\n",
    "    for i in range(4):  # 0:robô, 1:raposa, 2:galinha, 3:ração\n",
    "        if i == 0 or state[i] == side:\n",
    "            new_state = list(state)\n",
    "            # Mudar lado do robô e (opcionalmente) de outro item\n",
    "            new_state[0] = 'F' if side == 'N' else 'N'\n",
    "            if i != 0:\n",
    "                new_state[i] = new_state[0]\n",
    "            new_state = ''.join(new_state)\n",
    "            if new_state in valid_states:\n",
    "                transitions.append(new_state)\n",
    "    return transitions\n",
    "\n",
    "# Criar grafo de transições\n",
    "graph = defaultdict(list)\n",
    "for state in valid_states:\n",
    "    for target in get_possible_transitions(state):\n",
    "        graph[state].append(target)\n",
    "\n",
    "graph['NNNN']  # Mostrando transições do estado inicial\n"
   ]
  },
  {
   "cell_type": "markdown",
   "id": "ffd6ebed",
   "metadata": {},
   "source": [
    "\n",
    "## 3. Buscando a Solução\n",
    "\n",
    "Agora que temos o grafo de transições, vamos utilizar **Busca em Largura (BFS)** para encontrar o caminho mais curto do estado inicial até o objetivo (`FFFF`).\n"
   ]
  },
  {
   "cell_type": "code",
   "execution_count": null,
   "id": "fe152790",
   "metadata": {},
   "outputs": [],
   "source": [
    "\n",
    "from collections import deque\n",
    "\n",
    "def bfs(start, goal):\n",
    "    queue = deque([[start]])\n",
    "    visited = set()\n",
    "\n",
    "    while queue:\n",
    "        path = queue.popleft()\n",
    "        state = path[-1]\n",
    "        if state == goal:\n",
    "            return path\n",
    "        if state in visited:\n",
    "            continue\n",
    "        visited.add(state)\n",
    "        for neighbor in graph[state]:\n",
    "            new_path = list(path)\n",
    "            new_path.append(neighbor)\n",
    "            queue.append(new_path)\n",
    "    return None\n",
    "\n",
    "solution_path = bfs('NNNN', 'FFFF')\n",
    "solution_path\n"
   ]
  },
  {
   "cell_type": "markdown",
   "id": "6fa0c380",
   "metadata": {},
   "source": [
    "\n",
    "## 4. Visualizando o Caminho da Solução\n",
    "\n",
    "Vamos mostrar a sequência de passos para resolver o problema da travessia do rio.\n"
   ]
  },
  {
   "cell_type": "code",
   "execution_count": null,
   "id": "bc6f97b4",
   "metadata": {},
   "outputs": [],
   "source": [
    "\n",
    "def explain_state(state):\n",
    "    names = ['Robô', 'Raposa', 'Galinha', 'Ração']\n",
    "    near = [names[i] for i in range(4) if state[i] == 'N']\n",
    "    far = [names[i] for i in range(4) if state[i] == 'F']\n",
    "    return f\"📍 Lado NEAR: {', '.join(near):30} | Lado FAR: {', '.join(far)}\"\n",
    "\n",
    "for i, state in enumerate(solution_path):\n",
    "    print(f\"Passo {i}: {state} → {explain_state(state)}\")\n"
   ]
  }
 ],
 "metadata": {},
 "nbformat": 4,
 "nbformat_minor": 5
}