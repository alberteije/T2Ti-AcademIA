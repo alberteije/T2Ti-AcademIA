{
 "cells": [
  {
   "cell_type": "markdown",
   "metadata": {},
   "source": [
    "## Exemplo Alô Mundo\n",
    "O código abaixo serve para imprimir um **\"Alô Mundo\"**"
   ]
  },
  {
   "cell_type": "code",
   "execution_count": 16,
   "metadata": {},
   "outputs": [
    {
     "name": "stdout",
     "output_type": "stream",
     "text": [
      "Alo Mundo - de novo - mais uma vez\n"
     ]
    }
   ],
   "source": [
    "print(\"Alo Mundo - de novo - mais uma vez\")"
   ]
  },
  {
   "cell_type": "code",
   "execution_count": 17,
   "metadata": {},
   "outputs": [
    {
     "name": "stdout",
     "output_type": "stream",
     "text": [
      "Hello World - Alô mundo em inglês. Show de bola!\n"
     ]
    }
   ],
   "source": [
    "print(\"Hello World - Alô mundo em inglês. Show de bola!\")"
   ]
  }
 ],
 "metadata": {
  "kernelspec": {
   "display_name": "pfzth",
   "language": "python",
   "name": "python3"
  },
  "language_info": {
   "codemirror_mode": {
    "name": "ipython",
    "version": 3
   },
   "file_extension": ".py",
   "mimetype": "text/x-python",
   "name": "python",
   "nbconvert_exporter": "python",
   "pygments_lexer": "ipython3",
   "version": "3.12.1"
  }
 },
 "nbformat": 4,
 "nbformat_minor": 2
}
